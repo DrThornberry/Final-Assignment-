{
 "cells": [
  {
   "cell_type": "markdown",
   "id": "dad74d3a-7929-42c3-af7f-c7f74da0583e",
   "metadata": {
    "tags": []
   },
   "source": [
    "# Data Science Tools and Ecosystem"
   ]
  },
  {
   "cell_type": "markdown",
   "id": "adeb67e0-f776-4e43-b38e-61abc0d964a3",
   "metadata": {},
   "source": [
    "This notebook shall summarize Data Science Tools and Ecosystem"
   ]
  },
  {
   "cell_type": "markdown",
   "id": "5ec81c37-4103-4046-bcca-e2ba5b02f8a6",
   "metadata": {},
   "source": [
    "**Objectives:**\n",
    "- List popular languages for data science\n",
    "- List popular data libraries use by data scientists\n",
    "- Popular development environments for data scientists"
   ]
  },
  {
   "cell_type": "markdown",
   "id": "070a9b52-db1b-4368-aad9-7fc401a894cb",
   "metadata": {},
   "source": [
    "Some of the popular languages that Data Scientists use are : \n",
    "1. Python\n",
    "2. SQL\n",
    "3. R"
   ]
  },
  {
   "cell_type": "markdown",
   "id": "540e8bed-9ab7-4fc4-af44-593ca74ce4f3",
   "metadata": {},
   "source": [
    "Some of the commonly used libraries used by Data Scientists include:\n",
    "1. Pandas\n",
    "2. Matplotlib\n",
    "3. Scikit-learn"
   ]
  },
  {
   "cell_type": "markdown",
   "id": "bdc58f47-72bc-47bf-ac0a-f16a473f7f88",
   "metadata": {},
   "source": [
    "| Data Science Tools |\n",
    " --------------------\n",
    "| Jupyter Notebooks |\n",
    "| Rstudio |\n",
    "| Apache Hadoop|"
   ]
  },
  {
   "cell_type": "markdown",
   "id": "01fc0b89-58b7-40aa-a2cc-650dc33b5468",
   "metadata": {},
   "source": [
    "### Below are a few examples of evaluating arithmetic expressions in Python"
   ]
  },
  {
   "cell_type": "code",
   "execution_count": 1,
   "id": "dce60548-bc6a-4ece-9c1b-46a94f6d8313",
   "metadata": {
    "tags": []
   },
   "outputs": [
    {
     "data": {
      "text/plain": [
       "17"
      ]
     },
     "execution_count": 1,
     "metadata": {},
     "output_type": "execute_result"
    }
   ],
   "source": [
    "# This is a simple arithemtic expression to mutiply then add integers\n",
    "(3*4)+5"
   ]
  },
  {
   "cell_type": "code",
   "execution_count": 3,
   "id": "0020b858-7fa4-45dc-9a9c-4c207023a67b",
   "metadata": {
    "tags": []
   },
   "outputs": [
    {
     "data": {
      "text/plain": [
       "3.3333333333333335"
      ]
     },
     "execution_count": 3,
     "metadata": {},
     "output_type": "execute_result"
    }
   ],
   "source": [
    "# This will convert 200 minutes to hours by dividing by 60\n",
    "200/60"
   ]
  },
  {
   "cell_type": "markdown",
   "id": "2ebf5ac6-db85-4f2e-b732-2abfd5d72be9",
   "metadata": {},
   "source": [
    "## Author\n",
    "Regan Mroske"
   ]
  },
  {
   "cell_type": "code",
   "execution_count": null,
   "id": "b42870b9-09ec-4d5f-849d-8ffff3b79a20",
   "metadata": {},
   "outputs": [],
   "source": []
  }
 ],
 "metadata": {
  "kernelspec": {
   "display_name": "Python",
   "language": "python",
   "name": "conda-env-python-py"
  },
  "language_info": {
   "codemirror_mode": {
    "name": "ipython",
    "version": 3
   },
   "file_extension": ".py",
   "mimetype": "text/x-python",
   "name": "python",
   "nbconvert_exporter": "python",
   "pygments_lexer": "ipython3",
   "version": "3.7.12"
  }
 },
 "nbformat": 4,
 "nbformat_minor": 5
}
